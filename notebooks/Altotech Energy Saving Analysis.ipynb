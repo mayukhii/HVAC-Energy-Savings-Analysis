{
 "cells": [
  {
   "cell_type": "code",
   "execution_count": 1,
   "id": "01c722a6-c881-4b8b-aeed-5eb8c2ba707a",
   "metadata": {},
   "outputs": [
    {
     "name": "stdout",
     "output_type": "stream",
     "text": [
      "Requirement already satisfied: meteostat in c:\\users\\mayukhi nimesha\\appdata\\local\\programs\\python\\python311\\lib\\site-packages (1.6.8)\n",
      "Requirement already satisfied: pandas in c:\\users\\mayukhi nimesha\\appdata\\local\\programs\\python\\python311\\lib\\site-packages (2.2.2)\n",
      "Requirement already satisfied: pytz in c:\\users\\mayukhi nimesha\\appdata\\local\\programs\\python\\python311\\lib\\site-packages (from meteostat) (2024.1)\n",
      "Requirement already satisfied: numpy in c:\\users\\mayukhi nimesha\\appdata\\local\\programs\\python\\python311\\lib\\site-packages (from meteostat) (1.26.4)\n",
      "Requirement already satisfied: python-dateutil>=2.8.2 in c:\\users\\mayukhi nimesha\\appdata\\local\\programs\\python\\python311\\lib\\site-packages (from pandas) (2.9.0.post0)\n",
      "Requirement already satisfied: tzdata>=2022.7 in c:\\users\\mayukhi nimesha\\appdata\\local\\programs\\python\\python311\\lib\\site-packages (from pandas) (2024.1)\n",
      "Requirement already satisfied: six>=1.5 in c:\\users\\mayukhi nimesha\\appdata\\local\\programs\\python\\python311\\lib\\site-packages (from python-dateutil>=2.8.2->pandas) (1.16.0)\n"
     ]
    },
    {
     "name": "stderr",
     "output_type": "stream",
     "text": [
      "\n",
      "[notice] A new release of pip is available: 24.0 -> 25.0.1\n",
      "[notice] To update, run: python.exe -m pip install --upgrade pip\n"
     ]
    },
    {
     "name": "stdout",
     "output_type": "stream",
     "text": [
      "Requirement already satisfied: pandas in c:\\users\\mayukhi nimesha\\appdata\\local\\programs\\python\\python311\\lib\\site-packages (2.2.2)\n",
      "Requirement already satisfied: matplotlib in c:\\users\\mayukhi nimesha\\appdata\\local\\programs\\python\\python311\\lib\\site-packages (3.9.2)\n",
      "Requirement already satisfied: numpy>=1.23.2 in c:\\users\\mayukhi nimesha\\appdata\\local\\programs\\python\\python311\\lib\\site-packages (from pandas) (1.26.4)\n",
      "Requirement already satisfied: python-dateutil>=2.8.2 in c:\\users\\mayukhi nimesha\\appdata\\local\\programs\\python\\python311\\lib\\site-packages (from pandas) (2.9.0.post0)\n",
      "Requirement already satisfied: pytz>=2020.1 in c:\\users\\mayukhi nimesha\\appdata\\local\\programs\\python\\python311\\lib\\site-packages (from pandas) (2024.1)\n",
      "Requirement already satisfied: tzdata>=2022.7 in c:\\users\\mayukhi nimesha\\appdata\\local\\programs\\python\\python311\\lib\\site-packages (from pandas) (2024.1)\n",
      "Requirement already satisfied: contourpy>=1.0.1 in c:\\users\\mayukhi nimesha\\appdata\\local\\programs\\python\\python311\\lib\\site-packages (from matplotlib) (1.3.1)\n",
      "Requirement already satisfied: cycler>=0.10 in c:\\users\\mayukhi nimesha\\appdata\\local\\programs\\python\\python311\\lib\\site-packages (from matplotlib) (0.12.1)\n",
      "Requirement already satisfied: fonttools>=4.22.0 in c:\\users\\mayukhi nimesha\\appdata\\local\\programs\\python\\python311\\lib\\site-packages (from matplotlib) (4.55.0)\n",
      "Requirement already satisfied: kiwisolver>=1.3.1 in c:\\users\\mayukhi nimesha\\appdata\\local\\programs\\python\\python311\\lib\\site-packages (from matplotlib) (1.4.7)\n",
      "Requirement already satisfied: packaging>=20.0 in c:\\users\\mayukhi nimesha\\appdata\\local\\programs\\python\\python311\\lib\\site-packages (from matplotlib) (24.0)\n",
      "Requirement already satisfied: pillow>=8 in c:\\users\\mayukhi nimesha\\appdata\\local\\programs\\python\\python311\\lib\\site-packages (from matplotlib) (11.0.0)\n",
      "Requirement already satisfied: pyparsing>=2.3.1 in c:\\users\\mayukhi nimesha\\appdata\\local\\programs\\python\\python311\\lib\\site-packages (from matplotlib) (3.2.0)\n",
      "Requirement already satisfied: six>=1.5 in c:\\users\\mayukhi nimesha\\appdata\\local\\programs\\python\\python311\\lib\\site-packages (from python-dateutil>=2.8.2->pandas) (1.16.0)\n"
     ]
    },
    {
     "name": "stderr",
     "output_type": "stream",
     "text": [
      "\n",
      "[notice] A new release of pip is available: 24.0 -> 25.0.1\n",
      "[notice] To update, run: python.exe -m pip install --upgrade pip\n"
     ]
    }
   ],
   "source": [
    "!pip install meteostat pandas\n",
    "!pip install pandas matplotlib"
   ]
  },
  {
   "cell_type": "code",
   "execution_count": 2,
   "id": "f299c2fb-6f3f-4cd3-9569-f87592c959f0",
   "metadata": {},
   "outputs": [
    {
     "name": "stderr",
     "output_type": "stream",
     "text": [
      "FutureWarning: Support for nested sequences for 'parse_dates' in pd.read_csv is deprecated. Combine the desired columns with pd.to_datetime after parsing instead.\n",
      "FutureWarning: Support for nested sequences for 'parse_dates' in pd.read_csv is deprecated. Combine the desired columns with pd.to_datetime after parsing instead.\n",
      "FutureWarning: Support for nested sequences for 'parse_dates' in pd.read_csv is deprecated. Combine the desired columns with pd.to_datetime after parsing instead.\n",
      "FutureWarning: Support for nested sequences for 'parse_dates' in pd.read_csv is deprecated. Combine the desired columns with pd.to_datetime after parsing instead.\n"
     ]
    },
    {
     "name": "stdout",
     "output_type": "stream",
     "text": [
      "✅ Weather data successfully fetched and cleaned!\n"
     ]
    },
    {
     "name": "stderr",
     "output_type": "stream",
     "text": [
      "FutureWarning: 'H' is deprecated and will be removed in a future version, please use 'h' instead.\n",
      "FutureWarning: DataFrame.fillna with 'method' is deprecated and will raise in a future version. Use obj.ffill() or obj.bfill() instead.\n"
     ]
    }
   ],
   "source": [
    "import pandas as pd\n",
    "from meteostat import Hourly, Daily, Point\n",
    "from datetime import datetime, timedelta\n",
    "import matplotlib.pyplot as plt\n",
    "\n",
    "# 🔹 Define location (Bangkok, Thailand)\n",
    "latitude, longitude = 13.746, 100.530\n",
    "\n",
    "# 🔹 Define date range\n",
    "start_date = datetime(2024, 3, 1)  # Adjust as needed\n",
    "end_date = datetime(2024, 3, 7)\n",
    "\n",
    "# 🔹 Create a Meteostat Point for the location\n",
    "location = Point(latitude, longitude)\n",
    "\n",
    "# 🔹 Fetch hourly weather data\n",
    "weather_data = Hourly(location, start_date, end_date)\n",
    "weather_data = weather_data.fetch()\n",
    "\n",
    "# 🔹 Rename columns for clarity\n",
    "weather_data = weather_data.reset_index()\n",
    "weather_data = weather_data.rename(columns={\n",
    "    \"time\": \"timestamp\",\n",
    "    \"temp\": \"temperature\",\n",
    "    \"rhum\": \"humidity\"\n",
    "})\n",
    "\n",
    "# 🔹 Fill missing values (forward fill)\n",
    "weather_data.fillna(method=\"ffill\", inplace=True)\n",
    "\n",
    "# 🔹 Save the cleaned dataset\n",
    "weather_data.to_csv(\"cleaned_weather_data.csv\", index=False)\n",
    "\n",
    "print(\"✅ Weather data successfully fetched and cleaned!\")\n"
   ]
  },
  {
   "cell_type": "code",
   "execution_count": 3,
   "id": "dab3241a-8858-4133-b791-49bb87fa4f8b",
   "metadata": {},
   "outputs": [
    {
     "name": "stdout",
     "output_type": "stream",
     "text": [
      "            timestamp  temperature  dwpt  humidity  prcp  snow   wdir  wspd  \\\n",
      "0 2024-03-01 00:00:00         28.0  25.0      84.0   0.0   NaN  170.0   3.6   \n",
      "1 2024-03-01 01:00:00         29.4  25.6      80.0   0.0   NaN  183.0   3.7   \n",
      "2 2024-03-01 02:00:00         30.4  25.5      75.0   0.0   NaN  183.0   5.5   \n",
      "3 2024-03-01 03:00:00         30.9  25.7      74.0   0.0   NaN  140.0   3.6   \n",
      "4 2024-03-01 04:00:00         32.3  25.4      67.0   0.0   NaN  187.0   7.4   \n",
      "\n",
      "   wpgt    pres  tsun  coco  \n",
      "0   NaN  1012.0   NaN   2.0  \n",
      "1   NaN  1012.2   NaN   2.0  \n",
      "2   NaN  1012.7   NaN   2.0  \n",
      "3   NaN  1013.2   NaN   2.0  \n",
      "4   NaN  1012.4   NaN   2.0  \n"
     ]
    }
   ],
   "source": [
    "print(weather_data.head())\n"
   ]
  },
  {
   "cell_type": "code",
   "execution_count": 4,
   "id": "54b4be00-b8de-426b-b652-4e9aad1b0e23",
   "metadata": {},
   "outputs": [
    {
     "name": "stdout",
     "output_type": "stream",
     "text": [
      "         date  plant_energy\n",
      "0  2023-01-01       31124.0\n",
      "1  2023-01-02       27481.0\n",
      "2  2023-01-03       34559.0\n",
      "3  2023-01-04       35418.0\n",
      "4  2023-01-05       37479.0\n",
      "         date  plant_energy\n",
      "0  2024-09-02       51857.0\n",
      "1  2024-09-03       52817.5\n",
      "2  2024-09-04       50493.5\n",
      "3  2024-09-05       49655.5\n",
      "4  2024-09-06       52470.0\n"
     ]
    }
   ],
   "source": [
    "before_ai = pd.read_csv('before_ai_plant_data.csv')\n",
    "after_ai = pd.read_csv('after_ai_plant_data.csv')\n",
    "print(before_ai.head())\n",
    "print(after_ai.head())"
   ]
  },
  {
   "cell_type": "code",
   "execution_count": 5,
   "id": "d318f67f-fbfb-43d7-a228-199f20d0c851",
   "metadata": {},
   "outputs": [
    {
     "name": "stdout",
     "output_type": "stream",
     "text": [
      "Index(['date', 'plant_energy'], dtype='object')\n",
      "Index(['date', 'plant_energy'], dtype='object')\n"
     ]
    }
   ],
   "source": [
    "print(before_ai.columns)\n",
    "print(after_ai.columns)\n"
   ]
  },
  {
   "cell_type": "code",
   "execution_count": null,
   "id": "0e11fdd1-49b5-4294-932d-1c3c6983e727",
   "metadata": {},
   "outputs": [],
   "source": []
  }
 ],
 "metadata": {
  "kernelspec": {
   "display_name": "Python 3 (ipykernel)",
   "language": "python",
   "name": "python3"
  },
  "language_info": {
   "codemirror_mode": {
    "name": "ipython",
    "version": 3
   },
   "file_extension": ".py",
   "mimetype": "text/x-python",
   "name": "python",
   "nbconvert_exporter": "python",
   "pygments_lexer": "ipython3",
   "version": "3.11.4"
  }
 },
 "nbformat": 4,
 "nbformat_minor": 5
}
